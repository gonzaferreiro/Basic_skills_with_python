{
 "cells": [
  {
   "cell_type": "markdown",
   "metadata": {},
   "source": [
    "\n",
    "# Building \"Pokemon Stay\"\n",
    "---\n",
    "You are an analyst at a \"scrappy\" online gaming company that specializes in remakes of last year's fads.\n",
    "\n",
    "Your boss, who runs the product development team, is convinced that Pokemon Go's fatal flaw was that you had to actually move around outside. She has design mock-ups for a new game called Pokemon Stay: in this version players still need to move, but just from website to website. Pokemon gyms are now popular online destinations, and catching Pokemon in the \"wild\" simply requires browsing the internet for hours in the comfort of your home.\n",
    "\n",
    "She wants you to program a prototype version of the game and analyze the planned content to help the team calibrate the design."
   ]
  },
  {
   "cell_type": "markdown",
   "metadata": {
    "toc": true
   },
   "source": [
    "<h1>Table of Contents<span class=\"tocSkip\"></span></h1>\n",
    "<div class=\"toc\"><ul class=\"toc-item\"><li><ul class=\"toc-item\"><li><span><a href=\"#Building-&quot;Pokemon-Stay&quot;\" data-toc-modified-id=\"Building-&quot;Pokemon-Stay&quot;-0.1\">Building \"Pokemon Stay\"</a></span><ul class=\"toc-item\"><li><span><a href=\"#Package-imports\" data-toc-modified-id=\"Package-imports-0.1.1\">Package imports</a></span></li></ul></li></ul></li><li><span><a href=\"#1.-Defining-a-player\" data-toc-modified-id=\"1.-Defining-a-player-1\">1. Defining a player</a></span></li><li><span><a href=\"#2.-Defining-&quot;gym&quot;-locations\" data-toc-modified-id=\"2.-Defining-&quot;gym&quot;-locations-2\">2. Defining \"gym\" locations</a></span></li><li><span><a href=\"#3.-Create-a-pokedex\" data-toc-modified-id=\"3.-Create-a-pokedex-3\">3. Create a pokedex</a></span></li><li><span><a href=\"#4.-Create-a-data-structure-for-players\" data-toc-modified-id=\"4.-Create-a-data-structure-for-players-4\">4. Create a data structure for players</a></span><ul class=\"toc-item\"><li><span><a href=\"#4.1\" data-toc-modified-id=\"4.1-4.1\">4.1</a></span></li><li><span><a href=\"#4.2\" data-toc-modified-id=\"4.2-4.2\">4.2</a></span></li></ul></li><li><span><a href=\"#5.-Add-captured-pokemon-for-each-player\" data-toc-modified-id=\"5.-Add-captured-pokemon-for-each-player-5\">5. Add captured pokemon for each player</a></span></li><li><span><a href=\"#6.-What-gyms-have-players-visited?\" data-toc-modified-id=\"6.-What-gyms-have-players-visited?-6\">6. What gyms have players visited?</a></span><ul class=\"toc-item\"><li><span><a href=\"#6.1\" data-toc-modified-id=\"6.1-6.1\">6.1</a></span></li><li><span><a href=\"#6.2\" data-toc-modified-id=\"6.2-6.2\">6.2</a></span></li></ul></li><li><span><a href=\"#7.-Calculate-player-&quot;power&quot;.\" data-toc-modified-id=\"7.-Calculate-player-&quot;power&quot;.-7\">7. Calculate player \"power\".</a></span></li><li><span><a href=\"#8.-Load-a-pokedex-file-containing-all-the-pokemon\" data-toc-modified-id=\"8.-Load-a-pokedex-file-containing-all-the-pokemon-8\">8. Load a pokedex file containing all the pokemon</a></span><ul class=\"toc-item\"><li><span><a href=\"#8.1\" data-toc-modified-id=\"8.1-8.1\">8.1</a></span></li><li><span><a href=\"#8.2-Parse-the-raw-pokedex-with-list-comprehensions\" data-toc-modified-id=\"8.2-Parse-the-raw-pokedex-with-list-comprehensions-8.2\">8.2 Parse the raw pokedex with list comprehensions</a></span></li></ul></li><li><span><a href=\"#9.-Write-a-function-to-generate-the-full-pokedex\" data-toc-modified-id=\"9.-Write-a-function-to-generate-the-full-pokedex-9\">9. Write a function to generate the full pokedex</a></span></li><li><span><a href=\"#10.-Write-a-function-to-generate-a-&quot;filtered&quot;-pokedex\" data-toc-modified-id=\"10.-Write-a-function-to-generate-a-&quot;filtered&quot;-pokedex-10\">10. Write a function to generate a \"filtered\" pokedex</a></span></li><li><span><a href=\"#11.-Descriptive-statistics-on-the-prototype-pokedex\" data-toc-modified-id=\"11.-Descriptive-statistics-on-the-prototype-pokedex-11\">11. Descriptive statistics on the prototype pokedex</a></span><ul class=\"toc-item\"><li><span><a href=\"#11.1\" data-toc-modified-id=\"11.1-11.1\">11.1</a></span></li><li><span><a href=\"#11.2\" data-toc-modified-id=\"11.2-11.2\">11.2</a></span></li></ul></li><li><span><a href=\"#12.-Calibrate-the-frequency-of-Pokemon\" data-toc-modified-id=\"12.-Calibrate-the-frequency-of-Pokemon-12\">12. Calibrate the frequency of Pokemon</a></span></li></ul></div>"
   ]
  },
  {
   "cell_type": "markdown",
   "metadata": {},
   "source": [
    "#### Package imports\n",
    "\n",
    "The pprint package below is the only package imported here, and it's not even strictly required to do any of the project. Printing python variables and objects with pprint can help to format them in a \"prettier\" way."
   ]
  },
  {
   "cell_type": "code",
   "execution_count": 2,
   "metadata": {},
   "outputs": [],
   "source": [
    "from pprint import pprint"
   ]
  },
  {
   "cell_type": "markdown",
   "metadata": {},
   "source": [
    "<img src=\"http://imgur.com/l5NasQj.png\" style=\"float: left; margin: 25px 15px 0px 0px; height: 25px\">\n",
    "\n",
    "## 1. Defining a player\n",
    "\n",
    "---\n",
    "\n",
    "The player variables are:\n",
    "\n",
    "    player_id : id code unique to each player (integer)\n",
    "    player_name : entered name of the player (string)\n",
    "    time_played : number of times played the game in minutes (float)\n",
    "    player_pokemon: the player's captured pokemon (dictionary)\n",
    "    gyms_visited: ids of the gyms that a player has visited (list)\n",
    "    \n",
    "Create the components for a player object by defining each of these variables. The dictionary and list variables should just be defined as empty; you can use any (correctly typed) values for the others."
   ]
  },
  {
   "cell_type": "code",
   "execution_count": 3,
   "metadata": {},
   "outputs": [],
   "source": [
    "player_id = 14\n",
    "player_name = \"Gonza\"\n",
    "time_played = 0.0\n",
    "player_pokemon = {}\n",
    "gyms_visited = []"
   ]
  },
  {
   "cell_type": "markdown",
   "metadata": {},
   "source": [
    "<img src=\"http://imgur.com/l5NasQj.png\" style=\"float: left; margin: 25px 15px 0px 0px; height: 25px\">\n",
    "\n",
    "## 2. Defining \"gym\" locations\n",
    "\n",
    "---\n",
    "\n",
    "As the sole programmer, Pokemon Stay will have to start small. To begin, there will be 10 different gym location websites on the internet. The gym locations are:\n",
    "\n",
    "    1. 'reddit.com'\n",
    "    2. 'amazon.com'\n",
    "    3. 'twitter.com'\n",
    "    4. 'linkedin.com'\n",
    "    5. 'ebay.com'\n",
    "    6. 'netflix.com'\n",
    "    7. 'sporcle.com'\n",
    "    8. 'stackoverflow.com'\n",
    "    9. 'github.com'\n",
    "    10. 'quora.com'\n",
    "\n",
    "1. Set up a list of all the gym locations. This will be a list of strings.\n",
    "2. Append two of these locations to your player's list of visited gyms.\n",
    "3. Print the list."
   ]
  },
  {
   "cell_type": "code",
   "execution_count": 4,
   "metadata": {},
   "outputs": [],
   "source": [
    "available_gyms = [\n",
    "    \"reddit.com\", #0\n",
    "    \"amazon.com\", #1\n",
    "    \"twitter.com\", #2\n",
    "    \"linkedin.com\", #3\n",
    "    \"ebay.com\", #4\n",
    "    \"netflix.com\", #5\n",
    "    \"stackoverflow.com\", #6\n",
    "    \"github.com\", #7\n",
    "    \"quora.com\" #8\n",
    "]\n",
    "\n",
    "gyms_visited.append(available_gyms[0])\n",
    "gyms_visited.append(available_gyms[1])"
   ]
  },
  {
   "cell_type": "code",
   "execution_count": 5,
   "metadata": {},
   "outputs": [
    {
     "name": "stdout",
     "output_type": "stream",
     "text": [
      "['reddit.com', 'amazon.com']\n"
     ]
    }
   ],
   "source": [
    "pprint(gyms_visited)"
   ]
  },
  {
   "cell_type": "markdown",
   "metadata": {},
   "source": [
    "<img src=\"http://imgur.com/l5NasQj.png\" style=\"float: left; margin: 25px 15px 0px 0px; height: 25px\">\n",
    "\n",
    "## 3. Create a pokedex\n",
    "\n",
    "---\n",
    "\n",
    "We also need to create some pokemon to catch. Each pokemon will be defined by these variables:\n",
    "\n",
    "    pokemon_id : unique identifier for each pokemon (integer)\n",
    "    name : the name of the pokemon (string)\n",
    "    type : the category of pokemon (string)\n",
    "    hp : base hitpoints (integer)\n",
    "    attack : base attack (integer)\n",
    "    defense : base defense (integer)\n",
    "    special_attack : base special attack (integer)\n",
    "    special_defense : base sepecial defense (integer)\n",
    "    speed : base speed (integer)\n",
    "\n",
    "We are only going to create 3 different pokemon with these `pokemon_id` and `pokemon_name` values:\n",
    "\n",
    "    1 : 'charmander'\n",
    "    2 : 'squirtle'\n",
    "    3 : 'bulbasaur'\n",
    "\n",
    "Create a dictionary that will contain the pokemon. The keys of the dictionary will be the `pokemon_id` and the values will themselves be dictionaries that contain the other pokemon variables. The structure of the pokedex dictionary will start like so:\n",
    "     \n",
    "     {\n",
    "         1: {\n",
    "                 'name':'charmander',\n",
    "                 'type':'fire',\n",
    "                 ...\n",
    "                 \n",
    "The `type` of charmander, squirtle, and bulbasaur should be `'fire'`, `'water'`, and `'poison'` respectively. The other values are up to you, make them anything you like!\n",
    "\n",
    "Print (or pretty print) the pokedex dictionary with the 3 pokemon."
   ]
  },
  {
   "cell_type": "code",
   "execution_count": 6,
   "metadata": {},
   "outputs": [],
   "source": [
    "pokedex = {1 : {\"name\": \"charmander\", type: \"fire\", \"hp\": 50, \"attack\": 80,\n",
    "              \"defense\": 50, \"special_attack\": 95, \"special_defense\": 65, \"speed\": 50},\n",
    "           2 : {\"name\": \"squirtle\", type: \"water\", \"hp\": 65, \"attack\": 65,\n",
    "              \"defense\": 65, \"special_attack\": 80, \"special_defense\": 80, \"speed\": 65},\n",
    "           3 : {\"name\": \"bulbasaur\", type: \"poison\", \"hp\": 50, \"attack\": 50,\n",
    "              \"defense\": 80, \"special_attack\": 65, \"special_defense\": 95, \"speed\": 50}}"
   ]
  },
  {
   "cell_type": "markdown",
   "metadata": {},
   "source": [
    "<img src=\"http://imgur.com/l5NasQj.png\" style=\"float: left; margin: 25px 15px 0px 0px; height: 25px\">\n",
    "\n",
    "## 4. Create a data structure for players\n",
    "\n",
    "---\n",
    "\n",
    "### 4.1 \n",
    "\n",
    "In order to maintain a database of multiple players, create a dictionary that keeps track of players indexed by `player_id`. \n",
    "\n",
    "The keys of the dictionary will be `player_id` and the values will be dictionaries containing each player's variables (from question 1). \n",
    "\n",
    "Construct the `players` dictionary and insert the player that you defined in question 1, then print `players`."
   ]
  },
  {
   "cell_type": "code",
   "execution_count": 7,
   "metadata": {},
   "outputs": [
    {
     "name": "stdout",
     "output_type": "stream",
     "text": [
      "{14: {'players_name': 'Gonza', 'time_played': 0.0, 'player_pokemon': {}, 'gyms_visited': ['reddit.com', 'amazon.com']}}\n"
     ]
    }
   ],
   "source": [
    "players = {}\n",
    "\n",
    "players[player_id] = {\n",
    "    \"players_name\": player_name,\n",
    "    \"time_played\": time_played,\n",
    "    \"player_pokemon\": player_pokemon,\n",
    "    \"gyms_visited\": gyms_visited\n",
    "}\n",
    "\n",
    "print(players)"
   ]
  },
  {
   "cell_type": "markdown",
   "metadata": {},
   "source": [
    "---\n",
    "\n",
    "### 4.2\n",
    "\n",
    "Create a new player with `player_id = 2` in the `players` dictionary. Leave the `'player_pokemon'` dictionary empty. Append `'stackoverflow'` and `'github.com'` to the `'gyms_visited'` list for player 2.\n",
    "\n",
    "The `'player_name'` and `'time_played'` values are up to you, but must be a string and float, respectively.\n",
    "\n",
    "Remember, the player_id is the key for the player in the players dictionary.\n",
    "\n",
    "Print the `players` dictionary with the new player inserted."
   ]
  },
  {
   "cell_type": "code",
   "execution_count": 8,
   "metadata": {},
   "outputs": [],
   "source": [
    "players[2] = {\n",
    "    \"players_name\": \"Toto\",\n",
    "    \"time_played\": 15.0,\n",
    "    \"player_pokemon\": {},\n",
    "    \"gyms_visited\": [available_gyms[7],available_gyms[8]]\n",
    "}"
   ]
  },
  {
   "cell_type": "markdown",
   "metadata": {},
   "source": [
    "<img src=\"http://imgur.com/l5NasQj.png\" style=\"float: left; margin: 25px 15px 0px 0px; height: 25px\">\n",
    "\n",
    "## 5. Add captured pokemon for each player\n",
    "\n",
    "---\n",
    "\n",
    "The `'player_pokemon'` keyed dictionaries for each player keep track of which of the pokemon each player has.\n",
    "\n",
    "The keys of the `'player_pokemon'` dictionaries are the pokemon ids that correspond to the ids in the `pokedex` dictionary you created earlier. The values are integers specifying the stats for the pokemon.\n",
    "\n",
    "Give player 1 a squirtle. Give player 2 a charmander and a bulbasaur.\n",
    "\n",
    "Print the players dictionary after adding the pokemon for each player.\n"
   ]
  },
  {
   "cell_type": "code",
   "execution_count": 9,
   "metadata": {},
   "outputs": [],
   "source": [
    "players[14][\"player_pokemon\"] = {[*pokedex.keys()][1]: \n",
    "                                 [pokedex[2][\"attack\"],pokedex[2][\"defense\"],pokedex[2][\"hp\"],\n",
    "                                  pokedex[2][\"special_attack\"],pokedex[2][\"special_defense\"],pokedex[2][\"speed\"]]}"
   ]
  },
  {
   "cell_type": "code",
   "execution_count": 10,
   "metadata": {},
   "outputs": [],
   "source": [
    "players[2][\"player_pokemon\"] = {[*pokedex.keys()][0]: \n",
    "                                 [pokedex[1][\"attack\"],pokedex[1][\"defense\"],pokedex[1][\"hp\"],\n",
    "                                  pokedex[1][\"special_attack\"],pokedex[1][\"special_defense\"],pokedex[1][\"speed\"]],\n",
    "                                [*pokedex.keys()][2]: \n",
    "                                 [pokedex[3][\"attack\"],pokedex[3][\"defense\"],pokedex[3][\"hp\"],\n",
    "                                  pokedex[3][\"special_attack\"],pokedex[3][\"special_defense\"],pokedex[3][\"speed\"]]}"
   ]
  },
  {
   "cell_type": "code",
   "execution_count": 11,
   "metadata": {},
   "outputs": [
    {
     "name": "stdout",
     "output_type": "stream",
     "text": [
      "{2: {'gyms_visited': ['github.com', 'quora.com'],\n",
      "     'player_pokemon': {1: [80, 50, 50, 95, 65, 50],\n",
      "                        3: [50, 80, 50, 65, 95, 50]},\n",
      "     'players_name': 'Toto',\n",
      "     'time_played': 15.0},\n",
      " 14: {'gyms_visited': ['reddit.com', 'amazon.com'],\n",
      "      'player_pokemon': {2: [65, 65, 65, 80, 80, 65]},\n",
      "      'players_name': 'Gonza',\n",
      "      'time_played': 0.0}}\n"
     ]
    }
   ],
   "source": [
    "pprint(players)"
   ]
  },
  {
   "cell_type": "markdown",
   "metadata": {},
   "source": [
    "## 6. What gyms have players visited?\n",
    "\n",
    "---"
   ]
  },
  {
   "cell_type": "markdown",
   "metadata": {},
   "source": [
    "<img src=\"http://imgur.com/l5NasQj.png\" style=\"float: left; margin: 25px 15px 0px 0px; height: 25px\">\n",
    "\n",
    "### 6.1\n",
    "\n",
    "Write a for-loop that:\n",
    "\n",
    "1. Iterates through the `pokemon_gyms` list of gym locations you defined before.\n",
    "2. For each gym, iterate through each player in the `players` dictionary with a second, internal for-loop.\n",
    "3. If the player has visited the gym, print out \"[player] has visited [gym location].\", filling in [player] and [gym location] with the current player's name and current gym location."
   ]
  },
  {
   "cell_type": "code",
   "execution_count": 13,
   "metadata": {},
   "outputs": [
    {
     "name": "stdout",
     "output_type": "stream",
     "text": [
      "player N. 14  has visited  reddit.com\n",
      "player N. 14  has visited  amazon.com\n",
      "player N. 2  has visited  github.com\n",
      "player N. 2  has visited  quora.com\n"
     ]
    }
   ],
   "source": [
    "def player_gym(list_gyms,dict_players):\n",
    "    for gym in list_gyms:\n",
    "        for player in players:\n",
    "            for gym_player in players[player][\"gyms_visited\"]:\n",
    "                if gym_player == gym:\n",
    "                    print(\"player N.\",player,\" has visited \", gym)\n",
    "                    \n",
    "player_gym(available_gyms,players)"
   ]
  },
  {
   "cell_type": "markdown",
   "metadata": {},
   "source": [
    "<img src=\"http://imgur.com/xDpSobf.png\" style=\"float: left; margin: 25px 15px 0px 0px; height: 25px\">\n",
    "\n",
    "### 6.2\n",
    "\n",
    "How many times did that loop run? If you have N gyms and also N players, how many times would it run as a function of N?\n",
    "\n",
    "Can you think of a more efficient way to accomplish the same thing? \n",
    "\n",
    "(You can write your answer as Markdown text.)"
   ]
  },
  {
   "cell_type": "code",
   "execution_count": 14,
   "metadata": {},
   "outputs": [
    {
     "name": "stdout",
     "output_type": "stream",
     "text": [
      "player N. 14  has visited  reddit.com\n",
      "player N. 14  has visited  amazon.com\n",
      "player N. 2  has visited  github.com\n",
      "player N. 2  has visited  quora.com\n"
     ]
    }
   ],
   "source": [
    "# As so far we only have 2 players, but each one went to 2 gyms, and we have 9 gyms, which means 36 loops\n",
    "\n",
    "# Alternative 1\n",
    "def player_gym_2(list_gyms,dict_players):\n",
    "    for player in dict_players:\n",
    "        for gym_player in players[player][\"gyms_visited\"]:\n",
    "            if gym_player in list_gyms:\n",
    "                print(\"player N.\",player,\" has visited \", gym_player)\n",
    "\n",
    "player_gym_2(available_gyms,players)     "
   ]
  },
  {
   "cell_type": "code",
   "execution_count": 15,
   "metadata": {},
   "outputs": [
    {
     "name": "stdout",
     "output_type": "stream",
     "text": [
      "['player N.14 has visited reddit.com', 'player N.14 has visited amazon.com', 'player N.2 has visited github.com', 'player N.2 has visited quora.com']\n"
     ]
    }
   ],
   "source": [
    "# Alternative 2 with list comprehension\n",
    "def player_gym_op(list_gyms,dict_players):\n",
    "    printing = [(\"player N.\" + str(player) + \" has visited \" + gym_player) for player in dict_players \n",
    "for gym_player in players[player][\"gyms_visited\"] if gym_player in list_gyms]\n",
    "    print(printing)\n",
    "\n",
    "player_gym_op(available_gyms,players)"
   ]
  },
  {
   "cell_type": "markdown",
   "metadata": {},
   "source": [
    "<img src=\"http://imgur.com/l5NasQj.png\" style=\"float: left; margin: 25px 15px 0px 0px; height: 25px\">\n",
    "\n",
    "## 7. Calculate player \"power\".\n",
    "\n",
    "---\n",
    "\n",
    "Define a function that will calculate a player's \"power\". Player power is defined as the sum of the base statistics of all their pokemon.\n",
    "\n",
    "Your function will:\n",
    "\n",
    "1. Accept the `players` dictionary, `pokedex` dictionary, and a player_id as arguments.\n",
    "2. For the specified player_id, look up that player's pokemon and their level(s).\n",
    "3. Find and aggregate the attack and defense values for each of the player's pokemon from the `pokedex` dictionary.\n",
    "4. Print \"[player name]'s power is [player power].\", where the player power is the sum of the base statistics for all of their pokemon.\n",
    "5. Return the player's power value.\n",
    "\n",
    "Print out the pokemon power for each of your players."
   ]
  },
  {
   "cell_type": "code",
   "execution_count": 16,
   "metadata": {},
   "outputs": [
    {
     "name": "stdout",
     "output_type": "stream",
     "text": [
      "Gonza's power is'420\n",
      "Toto's power is'780\n",
      "Gonza's power is'420\n",
      "Toto's power is'780\n"
     ]
    }
   ],
   "source": [
    "# I made 2 different options for this function, as the letter asks to access the pokedex dictionary\n",
    "# although is not strictly necessary as the player himself holds that information\n",
    "\n",
    "# Option 1: asked\n",
    "def pokemon_power(pokedex_dict):\n",
    "    pokemon_power = {pokemon: sum([value for value in pokedex_dict[pokemon].values()\n",
    "                     if isinstance(value, int)])\n",
    "                     for pokemon in [*pokedex_dict.keys()]}\n",
    "    return(pokemon_power)\n",
    "\n",
    "def player_power(pokedex_dict,players_dict,player):\n",
    "    ppower = 0\n",
    "    pokepower = pokemon_power(pokedex_dict)\n",
    "    for n in players[player][\"player_pokemon\"].keys():\n",
    "        ppower = ppower + pokepower[n]\n",
    "    return(print(players[player][\"players_name\"]+\"'s power is'\"+str(ppower)))\n",
    "\n",
    "player_power(pokedex,players,14)\n",
    "player_power(pokedex,players,2)\n",
    "\n",
    "# Option 2: more efficient way\n",
    "def player_power_2(players_dict,player):\n",
    "    ppower = 0\n",
    "    for each in players[player][\"player_pokemon\"].values():\n",
    "        ppower = ppower + sum(each)\n",
    "    return(print(players[player][\"players_name\"]+\"'s power is'\"+str(ppower)))\n",
    "\n",
    "player_power_2(players,14)\n",
    "player_power_2(players,2)"
   ]
  },
  {
   "cell_type": "markdown",
   "metadata": {
    "collapsed": true
   },
   "source": [
    "<img src=\"http://imgur.com/l5NasQj.png\" style=\"float: left; margin: 25px 15px 0px 0px; height: 25px\">\n",
    "\n",
    "## 8. Load a pokedex file containing all the pokemon\n",
    "\n",
    "---\n",
    "\n",
    "### 8.1\n",
    "\n",
    "While you were putting together the prototype code, your colleagues were preparing a dataset of Pokemon and their attributes. (This was a rush job, so they may have picked some crazy values for some...)\n",
    "\n",
    "The code below loads information from a comma separated value (csv) file. You need to parse this string into a more useable format. The format of the string is:\n",
    "\n",
    "- Rows are separated by newline characters: \\n\n",
    "- Columns are separated by commas: ,\n",
    "- All cells in the csv are double quoted. Ex: \"PokedexNumber\" is the first cell of the first row.\n",
    "\n",
    "\n",
    "Using for-loops, create a list of lists where each list within the overall list is a row of the csv/matrix, and each element in that list is a cell in that row. Additional criteria:\n",
    "\n",
    "1. Quotes are removed from each cell item.\n",
    "2. Numeric column values are converted to floats.\n",
    "3. There are some cells that are empty and have no information. For these cells put a -1 value in place.\n",
    "\n",
    "Your end result is effectively a matrix. Each list in the outer list is a row, and the *j*th elements of the list together form the *j*th column, which represents a data attribute. The first three lists in your pokedex list should look like this:\n",
    "\n",
    "    ['PokedexNumber', 'Name', 'Type', 'Total', 'HP', 'Attack', 'Defense', 'SpecialAttack', 'SpecialDefense', 'Speed']\n",
    "    [1.0, 'Bulbasaur', 'GrassPoison', 318.0, 45.0, 49.0, 49.0, 65.0, 65.0, 45.0]\n",
    "    [2.0, 'Ivysaur', 'GrassPoison', 405.0, 60.0, 62.0, 63.0, 80.0, 80.0, 60.0]"
   ]
  },
  {
   "cell_type": "code",
   "execution_count": 17,
   "metadata": {},
   "outputs": [],
   "source": [
    "# Code to read in pokedex info\n",
    "raw_pd = ''\n",
    "pokedex_file = 'pokedex_basic.csv'\n",
    "with open(pokedex_file, 'r') as f:\n",
    "    raw_pd = f.read()\n",
    "    \n",
    "# the pokedex string is assigned to the raw_pd variable"
   ]
  },
  {
   "cell_type": "code",
   "execution_count": null,
   "metadata": {},
   "outputs": [],
   "source": [
    "# COMMENT: I read the entire matrix once finished and found no empy cells, so I am not including code for that\n",
    "\n",
    "list_c = [n for n in raw_pd]\n",
    "pokedex_matrix = []\n",
    "line = []\n",
    "counter = 0\n",
    "word = \"\"\n",
    "for c in list_c:\n",
    "    if c == '\"':\n",
    "        counter = counter + 1\n",
    "        if counter == 20:\n",
    "            counter = 0\n",
    "            line.append(word)\n",
    "            pokedex_matrix.append(line)\n",
    "            word = \"\"\n",
    "            line = []\n",
    "    elif c != ',' and c != '\"' and c != \"\\n\":\n",
    "        word = word + c\n",
    "    elif c == \",\":\n",
    "        line.append(word)\n",
    "        word = \"\"\n",
    "        \n",
    "for n in pokedex_matrix:\n",
    "    print(n)"
   ]
  },
  {
   "cell_type": "markdown",
   "metadata": {},
   "source": [
    "<img src=\"http://imgur.com/xDpSobf.png\" style=\"float: left; margin: 25px 15px 0px 0px; height: 25px\">\n",
    "\n",
    "### 8.2 Parse the raw pokedex with list comprehensions\n",
    "\n",
    "---\n",
    "\n",
    "Perform the same parsing as above, but **using only a single list comprehension** instead of for loops. You may have nested list comprehensions within the main list comprehension! The output should be exactly the same."
   ]
  },
  {
   "cell_type": "code",
   "execution_count": 29,
   "metadata": {},
   "outputs": [],
   "source": [
    "# Sorry, impossible to do with my previous solutions. Too many variables, conditions and appending in between loops"
   ]
  },
  {
   "cell_type": "markdown",
   "metadata": {},
   "source": [
    "<img src=\"http://imgur.com/l5NasQj.png\" style=\"float: left; margin: 25px 15px 0px 0px; height: 25px\">\n",
    "\n",
    "## 9. Write a function to generate the full pokedex\n",
    "\n",
    "---\n",
    "\n",
    "Write a function that recreates the pokedex you made before, but with the data read in from the full pokemon file. Create a unique key value for each entry in the pokemon dictionary.\n",
    "\n",
    "Your function should:\n",
    "\n",
    "1. Take the parsed pokedex information you created above as an argument.\n",
    "2. Return a dictionary in the same format as your original pokedex you created before containing the information from the parsed full pokedex file.\n",
    "\n",
    "To test the function, print out the pokemon with id = 100."
   ]
  },
  {
   "cell_type": "code",
   "execution_count": 19,
   "metadata": {},
   "outputs": [
    {
     "name": "stdout",
     "output_type": "stream",
     "text": [
      "{'name': 'Voltorb', 'type': 'Electric', 'hp': '40', 'attack': '30', 'defense': '50', 'special_attack': '55', 'special_defense': '55', 'speed': '100'}\n"
     ]
    }
   ],
   "source": [
    "def complete_pokedex(pokematrix):\n",
    "    com_pokedex = {}\n",
    "    for each in range(1,len(pokematrix)):\n",
    "        com_pokedex[pokematrix[each][0]] = {\"name\": pokematrix[each][1], \"type\": pokematrix[each][2], \n",
    "                                            \"hp\": pokematrix[each][4], \"attack\": pokematrix[each][5], \n",
    "                                            \"defense\": pokematrix[each][6], \"special_attack\": pokematrix[each][7],\n",
    "                                            \"special_defense\": pokematrix[each][8], \"speed\": pokematrix[each][9]}\n",
    "    return com_pokedex\n",
    "\n",
    "imported_pokedex = complete_pokedex(pokedex_matrix)\n",
    "print(imported_pokedex[\"100\"])\n",
    "                "
   ]
  },
  {
   "cell_type": "markdown",
   "metadata": {},
   "source": [
    "<img src=\"http://i.imgur.com/GCAf1UX.png\" style=\"float: left; margin: 25px 15px 0px 0px; height: 25px\">\n",
    "\n",
    "## 10. Write a function to generate a \"filtered\" pokedex\n",
    "---\n",
    "Your function should:\n",
    "1. Take the parsed pokedex information you created above as an argument.\n",
    "1. Take a dictionary as a parameter with keys matching the features of the Pokedex, filtering by exact match for string type values, and/or filter continuous variables specified by a value that is greater than or equal to the value of the corresponding dictionary key parameter.\n",
    "1. Return multiple elements from the Pokedex\n",
    "\n",
    "Example:\n",
    "\n",
    "```python\n",
    "\n",
    "# Only filter based on parameters passed\n",
    "filter_options = {\n",
    "    'Attack':   25,\n",
    "    'Defense':  30,\n",
    "    'Type':     'Electric'\n",
    "}\n",
    "\n",
    "# Return records with attack >= 25, defense >= 30, and type == \"Electric\"\n",
    "# Also anticipate that other paramters can also be passed such as \"SpecialAttack\", \"Speed\", etc.\n",
    "filtered_pokedex(pokedex_data, filter=filter_options)\n",
    "\n",
    "# Example output:\n",
    "# [{'Attack': 30.0,\n",
    "#  'Defense': 50.0,\n",
    "#  'HP': 40.0,\n",
    "#  'Name': 'Voltorb',\n",
    "#  'SpecialAttack': 55.0,\n",
    "#  'SpecialDefense': 55.0,\n",
    "#  'Speed': 100.0,\n",
    "#  'Total': 330.0,\n",
    "#  'Type': 'Electric'},\n",
    "#  {'Attack': 30.0,\n",
    "#  'Defense': 33.0,\n",
    "#  'HP': 32.0,\n",
    "#  'Name': 'Pikachu',\n",
    "#  'SpecialAttack': 55.0,\n",
    "#  'SpecialDefense': 55.0,\n",
    "#  'Speed': 100.0,\n",
    "#  'Total': 330.0,\n",
    "#  'Type': 'Electric'},\n",
    "#  ... etc\n",
    "#  ]\n",
    "\n",
    "```\n",
    "\n"
   ]
  },
  {
   "cell_type": "code",
   "execution_count": 20,
   "metadata": {},
   "outputs": [
    {
     "name": "stdout",
     "output_type": "stream",
     "text": [
      "dict_items([('name', 'Pikachu'), ('type', 'Electric'), ('hp', '35'), ('attack', '55'), ('defense', '40'), ('special_attack', '50'), ('special_defense', '50'), ('speed', '90')])\n"
     ]
    }
   ],
   "source": [
    "print(imported_pokedex[\"025\"].items())"
   ]
  },
  {
   "cell_type": "code",
   "execution_count": 21,
   "metadata": {},
   "outputs": [
    {
     "name": "stdout",
     "output_type": "stream",
     "text": [
      "{'604': {'name': 'Eelektross', 'type': 'Electric', 'hp': '85', 'attack': '115', 'defense': '80', 'special_attack': '105', 'special_defense': '80', 'speed': '50'}}\n"
     ]
    }
   ],
   "source": [
    "def filtered_pokedex(pokedex_data, filter_options):\n",
    "    filters = len(filter_options)\n",
    "    filtered_dict = {}\n",
    "    for key,value in pokedex_data.items():\n",
    "        count = 0\n",
    "        for pokekey, pokevalue in value.items():\n",
    "            for filterkey, filtervalue in filter_options.items():\n",
    "                try:\n",
    "                    if str(pokekey).lower() == str(filterkey).lower() and int(pokevalue) >= int(filtervalue):\n",
    "                        count = count + 1\n",
    "                        if count == filters:\n",
    "                            filtered_dict[key] = pokedex_data[key]\n",
    "                except:\n",
    "                    if str(pokekey).lower() == str(filterkey).lower() and str(pokevalue).lower() == str(filtervalue).lower():\n",
    "                        count = count + 1\n",
    "                        if count == filters:\n",
    "                            filtered_dict[key] = pokedex_data[key]\n",
    "    return filtered_dict\n",
    "\n",
    "filter_options = {\n",
    "    'Attack':   80,\n",
    "    'Defense':  80,\n",
    "    'Type':     'Electric'\n",
    "}\n",
    "\n",
    "filt_dict = filtered_pokedex(imported_pokedex,filter_options)\n",
    "print(filt_dict)"
   ]
  },
  {
   "cell_type": "markdown",
   "metadata": {
    "collapsed": true
   },
   "source": [
    "\n",
    "## 11. Descriptive statistics on the prototype pokedex\n",
    "\n",
    "<img src=\"http://imgur.com/l5NasQj.png\" style=\"float: left; margin: 25px 15px 0px 0px; height: 25px\">\n",
    "\n",
    "### 11.1\n",
    "\n",
    "What is the population mean and standard deviation of the \"Total\" attribute for all characters in the Pokedex?\n",
    "\n"
   ]
  },
  {
   "cell_type": "code",
   "execution_count": 22,
   "metadata": {},
   "outputs": [],
   "source": [
    "import math"
   ]
  },
  {
   "cell_type": "code",
   "execution_count": 30,
   "metadata": {},
   "outputs": [
    {
     "name": "stdout",
     "output_type": "stream",
     "text": [
      "435.1275\n"
     ]
    }
   ],
   "source": [
    "import numpy as np\n",
    "pokedex_array = np.array(pokedex_matrix)\n",
    "total = pokedex_array[1:,3].astype(int)\n",
    "total_mean = sum(total)/len(total)\n",
    "print(total_mean)"
   ]
  },
  {
   "cell_type": "code",
   "execution_count": 31,
   "metadata": {},
   "outputs": [
    {
     "name": "stdout",
     "output_type": "stream",
     "text": [
      "119.96202000529168\n"
     ]
    }
   ],
   "source": [
    "variance_ = []\n",
    "for num in total:\n",
    "    variance_.append((num - total_mean) ** 2)\n",
    "variance_sum = np.sum(variance_)\n",
    "variance_ok = variance_sum / len(variance_)\n",
    "total_std = math.sqrt(variance_ok)\n",
    "print(total_std)"
   ]
  },
  {
   "cell_type": "markdown",
   "metadata": {},
   "source": [
    "<img src=\"http://imgur.com/l5NasQj.png\" style=\"float: left; margin: 25px 15px 0px 0px; height: 25px\">\n",
    "\n",
    "### 11.2\n",
    "\n",
    "The game is no fun if the characters are wildly unbalanced! Are any characters \"overpowered\", which we'll define as having a \"Total\" more than three standard deviations from the population mean?"
   ]
  },
  {
   "cell_type": "code",
   "execution_count": 32,
   "metadata": {},
   "outputs": [
    {
     "name": "stdout",
     "output_type": "stream",
     "text": [
      "['002', 'Ivysaur', 'GrassPoison', '405', '60', '62', '63', '80', '80', '60']\n"
     ]
    }
   ],
   "source": [
    "print(pokedex_matrix[2])"
   ]
  },
  {
   "cell_type": "code",
   "execution_count": 33,
   "metadata": {},
   "outputs": [
    {
     "name": "stdout",
     "output_type": "stream",
     "text": [
      "[['150', 'MewtwoMega Mewtwo X', 'PsychicFighting', '800', '126', '190', '100', '154', '100', '130']]\n"
     ]
    }
   ],
   "source": [
    "def search_for_overpowered(pokedex_matrix):\n",
    "    filtered_list = []\n",
    "    for each in range(1,len(pokedex_matrix)):\n",
    "        if int(pokedex_matrix[each][3]) > total_mean + total_std*3:\n",
    "            filtered_list.append(pokedex_matrix[each])\n",
    "    return filtered_list\n",
    "\n",
    "print(search_for_overpowered(pokedex_matrix))"
   ]
  }
 ],
 "metadata": {
  "anaconda-cloud": {},
  "kernelspec": {
   "display_name": "Python 3",
   "language": "python",
   "name": "python3"
  },
  "language_info": {
   "codemirror_mode": {
    "name": "ipython",
    "version": 3
   },
   "file_extension": ".py",
   "mimetype": "text/x-python",
   "name": "python",
   "nbconvert_exporter": "python",
   "pygments_lexer": "ipython3",
   "version": "3.6.8"
  },
  "toc": {
   "base_numbering": 1,
   "nav_menu": {
    "height": "159px",
    "width": "264px"
   },
   "number_sections": false,
   "sideBar": true,
   "skip_h1_title": true,
   "title_cell": "Table of Contents",
   "title_sidebar": "Contents",
   "toc_cell": true,
   "toc_position": {},
   "toc_section_display": "block",
   "toc_window_display": false
  }
 },
 "nbformat": 4,
 "nbformat_minor": 1
}
